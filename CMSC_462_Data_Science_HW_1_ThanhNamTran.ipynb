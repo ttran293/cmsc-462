{
  "nbformat": 4,
  "nbformat_minor": 5,
  "metadata": {
    "kernelspec": {
      "display_name": "Python 3",
      "language": "python",
      "name": "python3"
    },
    "language_info": {
      "codemirror_mode": {
        "name": "ipython",
        "version": 3
      },
      "file_extension": ".py",
      "mimetype": "text/x-python",
      "name": "python",
      "nbconvert_exporter": "python",
      "pygments_lexer": "ipython3",
      "version": "3.8.8"
    },
    "colab": {
      "name": "CMSC 462 Data Science HW 1 ThanhNamTran.ipynb",
      "provenance": [],
      "collapsed_sections": []
    }
  },
  "cells": [
    {
      "cell_type": "markdown",
      "metadata": {
        "id": "0c9af4a4"
      },
      "source": [
        "# CMSC 462 Data Science HW 1\n",
        "\n",
        "#### Assigned: 9/7/2021, Due: 9/14/2021 at 5:30pm\n",
        "#### Total points: 50\n",
        "#### Name: Thanh Nam Tran\n"
      ],
      "id": "0c9af4a4"
    },
    {
      "cell_type": "markdown",
      "metadata": {
        "id": "7c6adbce"
      },
      "source": [
        "The cell below will handle imports and loading of the Iris dataset into a pandas dataframe named df. It also adds the 'Label' column to it as shown in class. DO NOT CHANGE THIS CELL! You will not need to import any other Python modules for this homework."
      ],
      "id": "7c6adbce"
    },
    {
      "cell_type": "code",
      "metadata": {
        "colab": {
          "base_uri": "https://localhost:8080/"
        },
        "id": "4817bb78",
        "outputId": "e376419a-1e2c-4eb0-8a5c-af53951c0bc3"
      },
      "source": [
        "# Import pandas and pandas scatter_matrix function\n",
        "import pandas as pd\n",
        "from pandas.plotting import scatter_matrix\n",
        "\n",
        "# Import/setup matplotlib\n",
        "%matplotlib inline\n",
        "import matplotlib \n",
        "matplotlib.style.use('ggplot')\n",
        "\n",
        "# Download Iris dataset\n",
        "!curl https://gist.githubusercontent.com/curran/a08a1080b88344b0c8a7/raw/0e7a9b0a5d22642a06d3d5b9bcbad9890c8ee534/iris.csv > ~/iris.csv\n",
        "df = pd.read_csv('~/iris.csv')\n",
        "\n",
        "# Add label column\n",
        "classmap = {}\n",
        "for idx, name in enumerate(df['species'].unique()):\n",
        "    classmap[name] = int(idx)\n",
        "df['Label'] = df['species'].apply(lambda x: classmap[x])"
      ],
      "id": "4817bb78",
      "execution_count": 1,
      "outputs": [
        {
          "output_type": "stream",
          "name": "stdout",
          "text": [
            "  % Total    % Received % Xferd  Average Speed   Time    Time     Time  Current\n",
            "                                 Dload  Upload   Total   Spent    Left  Speed\n",
            "100  3858  100  3858    0     0  10512      0 --:--:-- --:--:-- --:--:-- 10483\n"
          ]
        }
      ]
    },
    {
      "cell_type": "markdown",
      "metadata": {
        "id": "5b01da1f"
      },
      "source": [
        "#### Instructions:\n",
        "In this homework, you will modify df, a dataframe that stores the Iris dataset. You should not need to create any other dataframes. When possible, make sure to use built-in pandas functions (e.g. you should not need to use a for / while loop to iterate over the dataframe)"
      ],
      "id": "5b01da1f"
    },
    {
      "cell_type": "code",
      "metadata": {
        "colab": {
          "base_uri": "https://localhost:8080/",
          "height": 204
        },
        "id": "SnT7lR-b3_YK",
        "outputId": "7e8122f8-9873-486d-fca1-26c00aa9db8e"
      },
      "source": [
        "df.head()"
      ],
      "id": "SnT7lR-b3_YK",
      "execution_count": 2,
      "outputs": [
        {
          "output_type": "execute_result",
          "data": {
            "text/html": [
              "<div>\n",
              "<style scoped>\n",
              "    .dataframe tbody tr th:only-of-type {\n",
              "        vertical-align: middle;\n",
              "    }\n",
              "\n",
              "    .dataframe tbody tr th {\n",
              "        vertical-align: top;\n",
              "    }\n",
              "\n",
              "    .dataframe thead th {\n",
              "        text-align: right;\n",
              "    }\n",
              "</style>\n",
              "<table border=\"1\" class=\"dataframe\">\n",
              "  <thead>\n",
              "    <tr style=\"text-align: right;\">\n",
              "      <th></th>\n",
              "      <th>sepal_length</th>\n",
              "      <th>sepal_width</th>\n",
              "      <th>petal_length</th>\n",
              "      <th>petal_width</th>\n",
              "      <th>species</th>\n",
              "      <th>Label</th>\n",
              "    </tr>\n",
              "  </thead>\n",
              "  <tbody>\n",
              "    <tr>\n",
              "      <th>0</th>\n",
              "      <td>5.1</td>\n",
              "      <td>3.5</td>\n",
              "      <td>1.4</td>\n",
              "      <td>0.2</td>\n",
              "      <td>setosa</td>\n",
              "      <td>0</td>\n",
              "    </tr>\n",
              "    <tr>\n",
              "      <th>1</th>\n",
              "      <td>4.9</td>\n",
              "      <td>3.0</td>\n",
              "      <td>1.4</td>\n",
              "      <td>0.2</td>\n",
              "      <td>setosa</td>\n",
              "      <td>0</td>\n",
              "    </tr>\n",
              "    <tr>\n",
              "      <th>2</th>\n",
              "      <td>4.7</td>\n",
              "      <td>3.2</td>\n",
              "      <td>1.3</td>\n",
              "      <td>0.2</td>\n",
              "      <td>setosa</td>\n",
              "      <td>0</td>\n",
              "    </tr>\n",
              "    <tr>\n",
              "      <th>3</th>\n",
              "      <td>4.6</td>\n",
              "      <td>3.1</td>\n",
              "      <td>1.5</td>\n",
              "      <td>0.2</td>\n",
              "      <td>setosa</td>\n",
              "      <td>0</td>\n",
              "    </tr>\n",
              "    <tr>\n",
              "      <th>4</th>\n",
              "      <td>5.0</td>\n",
              "      <td>3.6</td>\n",
              "      <td>1.4</td>\n",
              "      <td>0.2</td>\n",
              "      <td>setosa</td>\n",
              "      <td>0</td>\n",
              "    </tr>\n",
              "  </tbody>\n",
              "</table>\n",
              "</div>"
            ],
            "text/plain": [
              "   sepal_length  sepal_width  petal_length  petal_width species  Label\n",
              "0           5.1          3.5           1.4          0.2  setosa      0\n",
              "1           4.9          3.0           1.4          0.2  setosa      0\n",
              "2           4.7          3.2           1.3          0.2  setosa      0\n",
              "3           4.6          3.1           1.5          0.2  setosa      0\n",
              "4           5.0          3.6           1.4          0.2  setosa      0"
            ]
          },
          "metadata": {},
          "execution_count": 2
        }
      ]
    },
    {
      "cell_type": "code",
      "metadata": {
        "colab": {
          "base_uri": "https://localhost:8080/"
        },
        "id": "htricojk4MQm",
        "outputId": "42636c0c-4553-46ba-cd3e-b1b562e03068"
      },
      "source": [
        "df.shape"
      ],
      "id": "htricojk4MQm",
      "execution_count": 3,
      "outputs": [
        {
          "output_type": "execute_result",
          "data": {
            "text/plain": [
              "(150, 6)"
            ]
          },
          "metadata": {},
          "execution_count": 3
        }
      ]
    },
    {
      "cell_type": "code",
      "metadata": {
        "colab": {
          "base_uri": "https://localhost:8080/"
        },
        "id": "yeFnF98N4L1g",
        "outputId": "cd272442-d56e-425e-cd86-d052ce65073e"
      },
      "source": [
        "df.info()"
      ],
      "id": "yeFnF98N4L1g",
      "execution_count": 4,
      "outputs": [
        {
          "output_type": "stream",
          "name": "stdout",
          "text": [
            "<class 'pandas.core.frame.DataFrame'>\n",
            "RangeIndex: 150 entries, 0 to 149\n",
            "Data columns (total 6 columns):\n",
            " #   Column        Non-Null Count  Dtype  \n",
            "---  ------        --------------  -----  \n",
            " 0   sepal_length  150 non-null    float64\n",
            " 1   sepal_width   150 non-null    float64\n",
            " 2   petal_length  150 non-null    float64\n",
            " 3   petal_width   150 non-null    float64\n",
            " 4   species       150 non-null    object \n",
            " 5   Label         150 non-null    int64  \n",
            "dtypes: float64(4), int64(1), object(1)\n",
            "memory usage: 7.2+ KB\n"
          ]
        }
      ]
    },
    {
      "cell_type": "markdown",
      "metadata": {
        "id": "901be115"
      },
      "source": [
        "1. In the cell below, add two columns to df named 'petal_ratio' and 'sepal_ratio'. The petal_ratio column should store the ratio between petal length and petal width (i.e. petal length / petal width) and the sepal_ratio column should store the ratio between sepal length and sepal width (i.e. sepal length / sepal width). (2 pts)"
      ],
      "id": "901be115"
    },
    {
      "cell_type": "code",
      "metadata": {
        "id": "dcfd603d"
      },
      "source": [
        "df['petal_ratio'] = df['petal_length'] / df['petal_width']\n",
        "df['sepal_ratio'] = df['sepal_length'] / df['sepal_width']"
      ],
      "id": "dcfd603d",
      "execution_count": 5,
      "outputs": []
    },
    {
      "cell_type": "code",
      "metadata": {
        "colab": {
          "base_uri": "https://localhost:8080/"
        },
        "id": "mKxeqrFs9F2g",
        "outputId": "4350f584-4198-4319-b4af-8329c926a0cd"
      },
      "source": [
        "df.shape"
      ],
      "id": "mKxeqrFs9F2g",
      "execution_count": 6,
      "outputs": [
        {
          "output_type": "execute_result",
          "data": {
            "text/plain": [
              "(150, 8)"
            ]
          },
          "metadata": {},
          "execution_count": 6
        }
      ]
    },
    {
      "cell_type": "code",
      "metadata": {
        "colab": {
          "base_uri": "https://localhost:8080/",
          "height": 204
        },
        "id": "SY-NnYbP6Tg5",
        "outputId": "25ad1318-3601-4327-e247-321b3513d882"
      },
      "source": [
        "df.head()"
      ],
      "id": "SY-NnYbP6Tg5",
      "execution_count": 7,
      "outputs": [
        {
          "output_type": "execute_result",
          "data": {
            "text/html": [
              "<div>\n",
              "<style scoped>\n",
              "    .dataframe tbody tr th:only-of-type {\n",
              "        vertical-align: middle;\n",
              "    }\n",
              "\n",
              "    .dataframe tbody tr th {\n",
              "        vertical-align: top;\n",
              "    }\n",
              "\n",
              "    .dataframe thead th {\n",
              "        text-align: right;\n",
              "    }\n",
              "</style>\n",
              "<table border=\"1\" class=\"dataframe\">\n",
              "  <thead>\n",
              "    <tr style=\"text-align: right;\">\n",
              "      <th></th>\n",
              "      <th>sepal_length</th>\n",
              "      <th>sepal_width</th>\n",
              "      <th>petal_length</th>\n",
              "      <th>petal_width</th>\n",
              "      <th>species</th>\n",
              "      <th>Label</th>\n",
              "      <th>petal_ratio</th>\n",
              "      <th>sepal_ratio</th>\n",
              "    </tr>\n",
              "  </thead>\n",
              "  <tbody>\n",
              "    <tr>\n",
              "      <th>0</th>\n",
              "      <td>5.1</td>\n",
              "      <td>3.5</td>\n",
              "      <td>1.4</td>\n",
              "      <td>0.2</td>\n",
              "      <td>setosa</td>\n",
              "      <td>0</td>\n",
              "      <td>7.0</td>\n",
              "      <td>1.457143</td>\n",
              "    </tr>\n",
              "    <tr>\n",
              "      <th>1</th>\n",
              "      <td>4.9</td>\n",
              "      <td>3.0</td>\n",
              "      <td>1.4</td>\n",
              "      <td>0.2</td>\n",
              "      <td>setosa</td>\n",
              "      <td>0</td>\n",
              "      <td>7.0</td>\n",
              "      <td>1.633333</td>\n",
              "    </tr>\n",
              "    <tr>\n",
              "      <th>2</th>\n",
              "      <td>4.7</td>\n",
              "      <td>3.2</td>\n",
              "      <td>1.3</td>\n",
              "      <td>0.2</td>\n",
              "      <td>setosa</td>\n",
              "      <td>0</td>\n",
              "      <td>6.5</td>\n",
              "      <td>1.468750</td>\n",
              "    </tr>\n",
              "    <tr>\n",
              "      <th>3</th>\n",
              "      <td>4.6</td>\n",
              "      <td>3.1</td>\n",
              "      <td>1.5</td>\n",
              "      <td>0.2</td>\n",
              "      <td>setosa</td>\n",
              "      <td>0</td>\n",
              "      <td>7.5</td>\n",
              "      <td>1.483871</td>\n",
              "    </tr>\n",
              "    <tr>\n",
              "      <th>4</th>\n",
              "      <td>5.0</td>\n",
              "      <td>3.6</td>\n",
              "      <td>1.4</td>\n",
              "      <td>0.2</td>\n",
              "      <td>setosa</td>\n",
              "      <td>0</td>\n",
              "      <td>7.0</td>\n",
              "      <td>1.388889</td>\n",
              "    </tr>\n",
              "  </tbody>\n",
              "</table>\n",
              "</div>"
            ],
            "text/plain": [
              "   sepal_length  sepal_width  petal_length  ...  Label petal_ratio  sepal_ratio\n",
              "0           5.1          3.5           1.4  ...      0         7.0     1.457143\n",
              "1           4.9          3.0           1.4  ...      0         7.0     1.633333\n",
              "2           4.7          3.2           1.3  ...      0         6.5     1.468750\n",
              "3           4.6          3.1           1.5  ...      0         7.5     1.483871\n",
              "4           5.0          3.6           1.4  ...      0         7.0     1.388889\n",
              "\n",
              "[5 rows x 8 columns]"
            ]
          },
          "metadata": {},
          "execution_count": 7
        }
      ]
    },
    {
      "cell_type": "markdown",
      "metadata": {
        "id": "faHVXWNqDtu_"
      },
      "source": [
        "\n",
        "\n",
        "---\n",
        "\n"
      ],
      "id": "faHVXWNqDtu_"
    },
    {
      "cell_type": "markdown",
      "metadata": {
        "id": "119c0967"
      },
      "source": [
        "2. Plot a histogram with 10 bins (the default) showing the petal ratio. (1 pt)"
      ],
      "id": "119c0967"
    },
    {
      "cell_type": "code",
      "metadata": {
        "colab": {
          "base_uri": "https://localhost:8080/",
          "height": 282
        },
        "id": "169a2c57",
        "outputId": "4d09447f-e583-4347-dc13-89dc1c44b8c0"
      },
      "source": [
        "df['petal_ratio'].plot.hist()"
      ],
      "id": "169a2c57",
      "execution_count": 8,
      "outputs": [
        {
          "output_type": "execute_result",
          "data": {
            "text/plain": [
              "<matplotlib.axes._subplots.AxesSubplot at 0x7f972178e6d0>"
            ]
          },
          "metadata": {},
          "execution_count": 8
        },
        {
          "output_type": "display_data",
          "data": {
            "image/png": "[encoded data removed]",
            "text/plain": [
              "<Figure size 432x288 with 1 Axes>"
            ]
          },
          "metadata": {
            "needs_background": "light"
          }
        }
      ]
    },
    {
      "cell_type": "markdown",
      "metadata": {
        "id": "ea059f3c"
      },
      "source": [
        "3. Plot a histogram with 25 bins showing the sepal ratio. (2 pts)"
      ],
      "id": "ea059f3c"
    },
    {
      "cell_type": "code",
      "metadata": {
        "colab": {
          "base_uri": "https://localhost:8080/",
          "height": 282
        },
        "id": "8efe3360",
        "outputId": "470e0c3d-fb81-4ad7-b20e-53176a350cee"
      },
      "source": [
        "df['sepal_ratio'].plot.hist(bins=25)"
      ],
      "id": "8efe3360",
      "execution_count": 9,
      "outputs": [
        {
          "output_type": "execute_result",
          "data": {
            "text/plain": [
              "<matplotlib.axes._subplots.AxesSubplot at 0x7f97217002d0>"
            ]
          },
          "metadata": {},
          "execution_count": 9
        },
        {
          "output_type": "display_data",
          "data": {
            "image/png": "[encoded data removed]",
            "text/plain": [
              "<Figure size 432x288 with 1 Axes>"
            ]
          },
          "metadata": {
            "needs_background": "light"
          }
        }
      ]
    },
    {
      "cell_type": "markdown",
      "metadata": {
        "id": "68eb71b5"
      },
      "source": [
        "4. In the cell below, create a scatter plot where the X-axis is the petal ratio and the Y-axis is the sepal ratio. Data points should be colored by their label. Provide the colormap argument, and use any colormap other than viridis. (3 pts)"
      ],
      "id": "68eb71b5"
    },
    {
      "cell_type": "code",
      "metadata": {
        "colab": {
          "base_uri": "https://localhost:8080/",
          "height": 275
        },
        "id": "fc52a7dd",
        "outputId": "fa91ea2e-9119-4af8-f984-6b97a3ad147e"
      },
      "source": [
        "df.plot.scatter(x = 'petal_ratio', y = 'sepal_ratio',c = 'Label', colormap='magma')"
      ],
      "id": "fc52a7dd",
      "execution_count": 10,
      "outputs": [
        {
          "output_type": "execute_result",
          "data": {
            "text/plain": [
              "<matplotlib.axes._subplots.AxesSubplot at 0x7f97211935d0>"
            ]
          },
          "metadata": {},
          "execution_count": 10
        },
        {
          "output_type": "display_data",
          "data": {
            "image/png": "[encoded data removed]",
            "text/plain": [
              "<Figure size 432x288 with 2 Axes>"
            ]
          },
          "metadata": {
            "needs_background": "light"
          }
        }
      ]
    },
    {
      "cell_type": "markdown",
      "metadata": {
        "id": "0ab77c15"
      },
      "source": [
        "5. Use .loc[] to select the 'petal_length', 'petal_ratio', and 'sepal_ratio' columns from df (make sure to select all rows), then plot a 3x3 scatter matrix of this data using the scatter_matrix() function. Set the diagonal of the scatter matrix to 'kde'. Do not use the scatter_matrix columns keyword argument - you are required to use .loc[]. Your answer should be a single line of code. (6 pts)"
      ],
      "id": "0ab77c15"
    },
    {
      "cell_type": "code",
      "metadata": {
        "colab": {
          "base_uri": "https://localhost:8080/",
          "height": 456
        },
        "id": "2167e6ca",
        "outputId": "c6bf87be-2ce0-4ee2-9ff4-d07af4ee54e0"
      },
      "source": [
        "scatter_matrix(df.loc[:, ['petal_length', 'petal_ratio','sepal_ratio']],diagonal='kde')"
      ],
      "id": "2167e6ca",
      "execution_count": 11,
      "outputs": [
        {
          "output_type": "execute_result",
          "data": {
            "text/plain": [
              "array([[<matplotlib.axes._subplots.AxesSubplot object at 0x7f97210e4250>,\n",
              "        <matplotlib.axes._subplots.AxesSubplot object at 0x7f97210e4fd0>,\n",
              "        <matplotlib.axes._subplots.AxesSubplot object at 0x7f9721049ad0>],\n",
              "       [<matplotlib.axes._subplots.AxesSubplot object at 0x7f972107af90>,\n",
              "        <matplotlib.axes._subplots.AxesSubplot object at 0x7f972103b810>,\n",
              "        <matplotlib.axes._subplots.AxesSubplot object at 0x7f9720ff1e90>],\n",
              "       [<matplotlib.axes._subplots.AxesSubplot object at 0x7f9720fb5550>,\n",
              "        <matplotlib.axes._subplots.AxesSubplot object at 0x7f9720f1ef90>,\n",
              "        <matplotlib.axes._subplots.AxesSubplot object at 0x7f9720f69bd0>]],\n",
              "      dtype=object)"
            ]
          },
          "metadata": {},
          "execution_count": 11
        },
        {
          "output_type": "display_data",
          "data": {
            "image/png": "[encoded data removed]",
            "text/plain": [
              "<Figure size 432x288 with 9 Axes>"
            ]
          },
          "metadata": {
            "needs_background": "light"
          }
        }
      ]
    },
    {
      "cell_type": "markdown",
      "metadata": {
        "id": "cGMyVPKWDDQj"
      },
      "source": [
        "\n",
        "\n",
        "---\n",
        "\n"
      ],
      "id": "cGMyVPKWDDQj"
    },
    {
      "cell_type": "markdown",
      "metadata": {
        "id": "30ec5c3d"
      },
      "source": [
        "6. In the next four cells, briefly interpret the plots from problems 2-5. Note any interesting characteristics you observe about them. (8 pts)"
      ],
      "id": "30ec5c3d"
    },
    {
      "cell_type": "code",
      "metadata": {
        "colab": {
          "base_uri": "https://localhost:8080/"
        },
        "id": "lMpQFIywgMFy",
        "outputId": "2d79d35e-4629-4fb1-b9e7-98d5fac1dcc9"
      },
      "source": [
        "df.sort_values(by = 'petal_ratio', ascending = False, inplace=True)\n",
        "df['petal_ratio'].value_counts()"
      ],
      "id": "lMpQFIywgMFy",
      "execution_count": 12,
      "outputs": [
        {
          "output_type": "execute_result",
          "data": {
            "text/plain": [
              "7.000000     8\n",
              "7.500000     6\n",
              "8.000000     5\n",
              "3.000000     5\n",
              "15.000000    4\n",
              "            ..\n",
              "2.347826     1\n",
              "2.304348     1\n",
              "2.666667     1\n",
              "2.652174     1\n",
              "2.571429     1\n",
              "Name: petal_ratio, Length: 94, dtype: int64"
            ]
          },
          "metadata": {},
          "execution_count": 12
        }
      ]
    },
    {
      "cell_type": "code",
      "metadata": {
        "colab": {
          "base_uri": "https://localhost:8080/"
        },
        "collapsed": true,
        "id": "fgKKdoe9Clkw",
        "outputId": "5f7dd730-705a-4e8f-a219-a1de90bd936f"
      },
      "source": [
        "sorted(df['petal_ratio'])"
      ],
      "id": "fgKKdoe9Clkw",
      "execution_count": 13,
      "outputs": [
        {
          "output_type": "execute_result",
          "data": {
            "text/plain": [
              "[2.125,\n",
              " 2.217391304347826,\n",
              " 2.2608695652173916,\n",
              " 2.2800000000000002,\n",
              " 2.3043478260869565,\n",
              " 2.3333333333333335,\n",
              " 2.3333333333333335,\n",
              " 2.347826086956522,\n",
              " 2.4,\n",
              " 2.44,\n",
              " 2.45,\n",
              " 2.4782608695652177,\n",
              " 2.5,\n",
              " 2.545454545454545,\n",
              " 2.55,\n",
              " 2.565217391304348,\n",
              " 2.5714285714285716,\n",
              " 2.6,\n",
              " 2.619047619047619,\n",
              " 2.6315789473684212,\n",
              " 2.6363636363636362,\n",
              " 2.6470588235294117,\n",
              " 2.6521739130434785,\n",
              " 2.6666666666666665,\n",
              " 2.6666666666666665,\n",
              " 2.6666666666666665,\n",
              " 2.6666666666666665,\n",
              " 2.666666666666667,\n",
              " 2.6842105263157894,\n",
              " 2.6842105263157894,\n",
              " 2.7142857142857144,\n",
              " 2.7222222222222223,\n",
              " 2.7222222222222223,\n",
              " 2.727272727272727,\n",
              " 2.769230769230769,\n",
              " 2.785714285714286,\n",
              " 2.7894736842105265,\n",
              " 2.8000000000000003,\n",
              " 2.8095238095238098,\n",
              " 2.8125,\n",
              " 2.833333333333333,\n",
              " 2.9375,\n",
              " 2.9411764705882355,\n",
              " 3.0,\n",
              " 3.0,\n",
              " 3.0,\n",
              " 3.0,\n",
              " 3.0,\n",
              " 3.0000000000000004,\n",
              " 3.0454545454545454,\n",
              " 3.0555555555555554,\n",
              " 3.0555555555555554,\n",
              " 3.0666666666666664,\n",
              " 3.0769230769230766,\n",
              " 3.0769230769230766,\n",
              " 3.0769230769230766,\n",
              " 3.1111111111111107,\n",
              " 3.1333333333333333,\n",
              " 3.1428571428571423,\n",
              " 3.1428571428571432,\n",
              " 3.1428571428571432,\n",
              " 3.1538461538461533,\n",
              " 3.1538461538461533,\n",
              " 3.1874999999999996,\n",
              " 3.2,\n",
              " 3.2105263157894735,\n",
              " 3.222222222222222,\n",
              " 3.230769230769231,\n",
              " 3.230769230769231,\n",
              " 3.25,\n",
              " 3.25,\n",
              " 3.266666666666667,\n",
              " 3.266666666666667,\n",
              " 3.2857142857142856,\n",
              " 3.3,\n",
              " 3.3,\n",
              " 3.3076923076923075,\n",
              " 3.3076923076923075,\n",
              " 3.333333333333333,\n",
              " 3.3333333333333335,\n",
              " 3.3333333333333335,\n",
              " 3.35,\n",
              " 3.3571428571428577,\n",
              " 3.3571428571428577,\n",
              " 3.3846153846153846,\n",
              " 3.4,\n",
              " 3.4,\n",
              " 3.428571428571429,\n",
              " 3.454545454545454,\n",
              " 3.4615384615384612,\n",
              " 3.5,\n",
              " 3.5,\n",
              " 3.5,\n",
              " 3.5000000000000004,\n",
              " 3.538461538461538,\n",
              " 3.545454545454545,\n",
              " 3.6249999999999996,\n",
              " 3.666666666666667,\n",
              " 3.7,\n",
              " 3.75,\n",
              " 3.75,\n",
              " 3.75,\n",
              " 3.916666666666667,\n",
              " 4.0,\n",
              " 4.0,\n",
              " 4.0,\n",
              " 4.1,\n",
              " 4.25,\n",
              " 4.333333333333334,\n",
              " 4.333333333333334,\n",
              " 4.666666666666667,\n",
              " 4.666666666666667,\n",
              " 4.666666666666667,\n",
              " 4.749999999999999,\n",
              " 5.0,\n",
              " 5.0,\n",
              " 5.666666666666667,\n",
              " 5.999999999999999,\n",
              " 5.999999999999999,\n",
              " 6.5,\n",
              " 6.5,\n",
              " 6.5,\n",
              " 6.5,\n",
              " 6.999999999999999,\n",
              " 6.999999999999999,\n",
              " 6.999999999999999,\n",
              " 6.999999999999999,\n",
              " 6.999999999999999,\n",
              " 6.999999999999999,\n",
              " 6.999999999999999,\n",
              " 6.999999999999999,\n",
              " 7.5,\n",
              " 7.5,\n",
              " 7.5,\n",
              " 7.5,\n",
              " 7.5,\n",
              " 7.5,\n",
              " 8.0,\n",
              " 8.0,\n",
              " 8.0,\n",
              " 8.0,\n",
              " 8.0,\n",
              " 8.5,\n",
              " 9.499999999999998,\n",
              " 11.0,\n",
              " 13.999999999999998,\n",
              " 15.0,\n",
              " 15.0,\n",
              " 15.0,\n",
              " 15.0]"
            ]
          },
          "metadata": {},
          "execution_count": 13
        }
      ]
    },
    {
      "cell_type": "markdown",
      "metadata": {
        "id": "055b9226"
      },
      "source": [
        "6a) Interpret petal_ratio histogram:\n",
        "- Sample size: range [2.125, 15]\n",
        "- Peak (highest count) at 7 and 7.5 ((highest count)\n",
        "- Skewed right: Most of the ratio value are between (2.125, 4.3), a few between (6, 8). Interstingly, there is no frequency of ratio in the range of (10.6, 13.8)\n",
        "- Outliers: 4 instances of 15\n"
      ],
      "id": "055b9226"
    },
    {
      "cell_type": "markdown",
      "metadata": {
        "id": "oNkVLTSrC95N"
      },
      "source": [
        "\n",
        "\n",
        "---\n",
        "\n"
      ],
      "id": "oNkVLTSrC95N"
    },
    {
      "cell_type": "code",
      "metadata": {
        "colab": {
          "base_uri": "https://localhost:8080/"
        },
        "id": "oVWXK-f0C8kA",
        "outputId": "4326522c-4dfa-4bd6-e0c4-4cd7cf91a9fa"
      },
      "source": [
        "df['sepal_ratio'].value_counts()"
      ],
      "id": "oVWXK-f0C8kA",
      "execution_count": 14,
      "outputs": [
        {
          "output_type": "execute_result",
          "data": {
            "text/plain": [
              "2.000000    5\n",
              "2.148148    4\n",
              "1.580645    3\n",
              "2.161290    3\n",
              "2.225806    3\n",
              "           ..\n",
              "1.852941    1\n",
              "1.352941    1\n",
              "2.214286    1\n",
              "1.931034    1\n",
              "2.321429    1\n",
              "Name: sepal_ratio, Length: 112, dtype: int64"
            ]
          },
          "metadata": {},
          "execution_count": 14
        }
      ]
    },
    {
      "cell_type": "code",
      "metadata": {
        "colab": {
          "base_uri": "https://localhost:8080/"
        },
        "collapsed": true,
        "id": "RdDqjL00nf-P",
        "outputId": "bfc45365-48ac-49f1-801b-7a4594304ca8"
      },
      "source": [
        "sorted(df['sepal_ratio'])"
      ],
      "id": "RdDqjL00nf-P",
      "execution_count": 15,
      "outputs": [
        {
          "output_type": "execute_result",
          "data": {
            "text/plain": [
              "[1.2682926829268295,\n",
              " 1.2777777777777777,\n",
              " 1.2954545454545454,\n",
              " 1.3095238095238095,\n",
              " 1.3421052631578947,\n",
              " 1.3421052631578947,\n",
              " 1.3421052631578947,\n",
              " 1.352941176470588,\n",
              " 1.375,\n",
              " 1.3783783783783783,\n",
              " 1.3846153846153848,\n",
              " 1.3846153846153848,\n",
              " 1.3888888888888888,\n",
              " 1.411764705882353,\n",
              " 1.411764705882353,\n",
              " 1.4285714285714286,\n",
              " 1.4285714285714286,\n",
              " 1.4324324324324322,\n",
              " 1.4333333333333333,\n",
              " 1.4374999999999998,\n",
              " 1.45,\n",
              " 1.457142857142857,\n",
              " 1.457142857142857,\n",
              " 1.4594594594594594,\n",
              " 1.4666666666666668,\n",
              " 1.46875,\n",
              " 1.46875,\n",
              " 1.4705882352941178,\n",
              " 1.4705882352941178,\n",
              " 1.4838709677419353,\n",
              " 1.4857142857142858,\n",
              " 1.5,\n",
              " 1.5000000000000002,\n",
              " 1.5151515151515151,\n",
              " 1.517241379310345,\n",
              " 1.5294117647058825,\n",
              " 1.5454545454545454,\n",
              " 1.5483870967741935,\n",
              " 1.5625,\n",
              " 1.5714285714285714,\n",
              " 1.5806451612903227,\n",
              " 1.5806451612903227,\n",
              " 1.5806451612903227,\n",
              " 1.5882352941176472,\n",
              " 1.5882352941176472,\n",
              " 1.5999999999999999,\n",
              " 1.5999999999999999,\n",
              " 1.6333333333333335,\n",
              " 1.6666666666666667,\n",
              " 1.7647058823529411,\n",
              " 1.8,\n",
              " 1.823529411764706,\n",
              " 1.84375,\n",
              " 1.8529411764705883,\n",
              " 1.8666666666666665,\n",
              " 1.8666666666666665,\n",
              " 1.9000000000000001,\n",
              " 1.9090909090909092,\n",
              " 1.9090909090909092,\n",
              " 1.9259259259259258,\n",
              " 1.9310344827586206,\n",
              " 1.956521739130435,\n",
              " 1.9600000000000002,\n",
              " 1.9655172413793105,\n",
              " 1.9666666666666668,\n",
              " 1.9666666666666668,\n",
              " 2.0,\n",
              " 2.0,\n",
              " 2.0,\n",
              " 2.0,\n",
              " 2.0,\n",
              " 2.0263157894736845,\n",
              " 2.0303030303030303,\n",
              " 2.0303030303030303,\n",
              " 2.03125,\n",
              " 2.033333333333333,\n",
              " 2.033333333333333,\n",
              " 2.035714285714286,\n",
              " 2.035714285714286,\n",
              " 2.04,\n",
              " 2.041666666666667,\n",
              " 2.064516129032258,\n",
              " 2.0689655172413794,\n",
              " 2.0714285714285716,\n",
              " 2.074074074074074,\n",
              " 2.0789473684210527,\n",
              " 2.103448275862069,\n",
              " 2.1153846153846154,\n",
              " 2.125,\n",
              " 2.137931034482759,\n",
              " 2.148148148148148,\n",
              " 2.148148148148148,\n",
              " 2.148148148148148,\n",
              " 2.148148148148148,\n",
              " 2.15625,\n",
              " 2.161290322580645,\n",
              " 2.161290322580645,\n",
              " 2.161290322580645,\n",
              " 2.1666666666666665,\n",
              " 2.1666666666666665,\n",
              " 2.1666666666666665,\n",
              " 2.1724137931034484,\n",
              " 2.173913043478261,\n",
              " 2.1785714285714284,\n",
              " 2.1785714285714284,\n",
              " 2.1875,\n",
              " 2.1923076923076925,\n",
              " 2.1999999999999997,\n",
              " 2.2,\n",
              " 2.206896551724138,\n",
              " 2.2142857142857144,\n",
              " 2.222222222222222,\n",
              " 2.2258064516129035,\n",
              " 2.2258064516129035,\n",
              " 2.2258064516129035,\n",
              " 2.230769230769231,\n",
              " 2.2333333333333334,\n",
              " 2.2333333333333334,\n",
              " 2.2399999999999998,\n",
              " 2.25,\n",
              " 2.25,\n",
              " 2.2666666666666666,\n",
              " 2.2758620689655173,\n",
              " 2.2800000000000002,\n",
              " 2.285714285714286,\n",
              " 2.285714285714286,\n",
              " 2.291666666666667,\n",
              " 2.291666666666667,\n",
              " 2.3214285714285716,\n",
              " 2.333333333333333,\n",
              " 2.346153846153846,\n",
              " 2.3666666666666667,\n",
              " 2.3703703703703702,\n",
              " 2.3913043478260874,\n",
              " 2.4,\n",
              " 2.428571428571429,\n",
              " 2.5,\n",
              " 2.5172413793103448,\n",
              " 2.52,\n",
              " 2.52,\n",
              " 2.533333333333333,\n",
              " 2.566666666666667,\n",
              " 2.6428571428571432,\n",
              " 2.68,\n",
              " 2.727272727272727,\n",
              " 2.727272727272727,\n",
              " 2.739130434782609,\n",
              " 2.7500000000000004,\n",
              " 2.818181818181818,\n",
              " 2.9615384615384617]"
            ]
          },
          "metadata": {},
          "execution_count": 15
        }
      ]
    },
    {
      "cell_type": "markdown",
      "metadata": {
        "id": "4002e162"
      },
      "source": [
        "6b) Interpret sepal_ratio histogram:\n",
        "- Sample size: range [1.352941, 15]\n",
        "- Peak (highest count) at 2, ~2.14, ~1.5\n",
        "- Slightly Symmetric: Center at ~1.7.\n",
        "- Outliers: No significant outliner"
      ],
      "id": "4002e162"
    },
    {
      "cell_type": "markdown",
      "metadata": {
        "id": "_pysS62aDLpO"
      },
      "source": [
        "\n",
        "\n",
        "---\n",
        "\n"
      ],
      "id": "_pysS62aDLpO"
    },
    {
      "cell_type": "code",
      "metadata": {
        "colab": {
          "base_uri": "https://localhost:8080/",
          "height": 437
        },
        "id": "x3JI2HOCy_ph",
        "outputId": "a20b1bd9-fc80-4a69-9a84-c6e89746d198"
      },
      "source": [
        "import seaborn as sns\n",
        "import matplotlib.pyplot as plt\n",
        "\n",
        "sns.lmplot(x = 'petal_ratio', y = 'sepal_ratio', data=df, lowess=True)"
      ],
      "id": "x3JI2HOCy_ph",
      "execution_count": 16,
      "outputs": [
        {
          "output_type": "stream",
          "name": "stderr",
          "text": [
            "/usr/local/lib/python3.7/dist-packages/statsmodels/tools/_testing.py:19: FutureWarning: pandas.util.testing is deprecated. Use the functions in the public API at pandas.testing instead.\n",
            "  import pandas.util.testing as tm\n"
          ]
        },
        {
          "output_type": "execute_result",
          "data": {
            "text/plain": [
              "<seaborn.axisgrid.FacetGrid at 0x7f97114a4fd0>"
            ]
          },
          "metadata": {},
          "execution_count": 16
        },
        {
          "output_type": "display_data",
          "data": {
            "image/png": "[encoded data removed]",
            "text/plain": [
              "<Figure size 360x360 with 1 Axes>"
            ]
          },
          "metadata": {
            "needs_background": "light"
          }
        }
      ]
    },
    {
      "cell_type": "code",
      "metadata": {
        "colab": {
          "base_uri": "https://localhost:8080/",
          "height": 403
        },
        "id": "a85Fpebt-Um8",
        "outputId": "e69cb7af-c0cf-4ff3-ae82-c38d66c14283"
      },
      "source": [
        "sns.lmplot(x = 'petal_ratio', y = 'sepal_ratio', data=df)"
      ],
      "id": "a85Fpebt-Um8",
      "execution_count": 17,
      "outputs": [
        {
          "output_type": "execute_result",
          "data": {
            "text/plain": [
              "<seaborn.axisgrid.FacetGrid at 0x7f9711442b50>"
            ]
          },
          "metadata": {},
          "execution_count": 17
        },
        {
          "output_type": "display_data",
          "data": {
            "image/png": "[encoded data removed]",
            "text/plain": [
              "<Figure size 360x360 with 1 Axes>"
            ]
          },
          "metadata": {
            "needs_background": "light"
          }
        }
      ]
    },
    {
      "cell_type": "markdown",
      "metadata": {
        "id": "d3b7c8e2"
      },
      "source": [
        "6c) Interpret scatter plot:\n",
        "- Correlation - Relationship: Negative Curved(Linear)\n",
        "- X value increases makes Y value decreases, Y value increases makes X value decreases\n",
        "- Outlier: None"
      ],
      "id": "d3b7c8e2"
    },
    {
      "cell_type": "markdown",
      "metadata": {
        "id": "RLok5TkuDNw6"
      },
      "source": [
        "\n",
        "\n",
        "---\n",
        "\n"
      ],
      "id": "RLok5TkuDNw6"
    },
    {
      "cell_type": "markdown",
      "metadata": {
        "id": "7700a878"
      },
      "source": [
        "6d) Interpret scatter matrix:\n",
        "\n",
        "- Sample size: range [1.352941, 15]\n",
        "- Peak (highest count) at 2, ~2.14, ~1.5\n",
        "- Slightly Symmetric: Center at ~1.7.\n",
        "- Outliers: No significant outliner\n",
        "\n",
        "- Correlation - Relationship: Negative Curved(Linear)\n",
        "- X value increases makes Y value decreases, Y value increases makes X value decreases\n",
        "- Outlier: None"
      ],
      "id": "7700a878"
    },
    {
      "cell_type": "markdown",
      "metadata": {
        "id": "JhEZTpL5DriO"
      },
      "source": [
        "\n",
        "\n",
        "---\n",
        "\n"
      ],
      "id": "JhEZTpL5DriO"
    },
    {
      "cell_type": "markdown",
      "metadata": {
        "id": "9149a019"
      },
      "source": [
        "7. In the cell below, display all rows of df that have a petal ratio greater than 10. This should be a single line of code. (2 pts)"
      ],
      "id": "9149a019"
    },
    {
      "cell_type": "code",
      "metadata": {
        "colab": {
          "base_uri": "https://localhost:8080/",
          "height": 235
        },
        "id": "ed155492",
        "outputId": "2449c625-8cd2-4427-8e66-4e1f6a7523a0"
      },
      "source": [
        "df[df.petal_ratio > 10]"
      ],
      "id": "ed155492",
      "execution_count": 18,
      "outputs": [
        {
          "output_type": "execute_result",
          "data": {
            "text/html": [
              "<div>\n",
              "<style scoped>\n",
              "    .dataframe tbody tr th:only-of-type {\n",
              "        vertical-align: middle;\n",
              "    }\n",
              "\n",
              "    .dataframe tbody tr th {\n",
              "        vertical-align: top;\n",
              "    }\n",
              "\n",
              "    .dataframe thead th {\n",
              "        text-align: right;\n",
              "    }\n",
              "</style>\n",
              "<table border=\"1\" class=\"dataframe\">\n",
              "  <thead>\n",
              "    <tr style=\"text-align: right;\">\n",
              "      <th></th>\n",
              "      <th>sepal_length</th>\n",
              "      <th>sepal_width</th>\n",
              "      <th>petal_length</th>\n",
              "      <th>petal_width</th>\n",
              "      <th>species</th>\n",
              "      <th>Label</th>\n",
              "      <th>petal_ratio</th>\n",
              "      <th>sepal_ratio</th>\n",
              "    </tr>\n",
              "  </thead>\n",
              "  <tbody>\n",
              "    <tr>\n",
              "      <th>37</th>\n",
              "      <td>4.9</td>\n",
              "      <td>3.1</td>\n",
              "      <td>1.5</td>\n",
              "      <td>0.1</td>\n",
              "      <td>setosa</td>\n",
              "      <td>0</td>\n",
              "      <td>15.0</td>\n",
              "      <td>1.580645</td>\n",
              "    </tr>\n",
              "    <tr>\n",
              "      <th>32</th>\n",
              "      <td>5.2</td>\n",
              "      <td>4.1</td>\n",
              "      <td>1.5</td>\n",
              "      <td>0.1</td>\n",
              "      <td>setosa</td>\n",
              "      <td>0</td>\n",
              "      <td>15.0</td>\n",
              "      <td>1.268293</td>\n",
              "    </tr>\n",
              "    <tr>\n",
              "      <th>9</th>\n",
              "      <td>4.9</td>\n",
              "      <td>3.1</td>\n",
              "      <td>1.5</td>\n",
              "      <td>0.1</td>\n",
              "      <td>setosa</td>\n",
              "      <td>0</td>\n",
              "      <td>15.0</td>\n",
              "      <td>1.580645</td>\n",
              "    </tr>\n",
              "    <tr>\n",
              "      <th>34</th>\n",
              "      <td>4.9</td>\n",
              "      <td>3.1</td>\n",
              "      <td>1.5</td>\n",
              "      <td>0.1</td>\n",
              "      <td>setosa</td>\n",
              "      <td>0</td>\n",
              "      <td>15.0</td>\n",
              "      <td>1.580645</td>\n",
              "    </tr>\n",
              "    <tr>\n",
              "      <th>12</th>\n",
              "      <td>4.8</td>\n",
              "      <td>3.0</td>\n",
              "      <td>1.4</td>\n",
              "      <td>0.1</td>\n",
              "      <td>setosa</td>\n",
              "      <td>0</td>\n",
              "      <td>14.0</td>\n",
              "      <td>1.600000</td>\n",
              "    </tr>\n",
              "    <tr>\n",
              "      <th>13</th>\n",
              "      <td>4.3</td>\n",
              "      <td>3.0</td>\n",
              "      <td>1.1</td>\n",
              "      <td>0.1</td>\n",
              "      <td>setosa</td>\n",
              "      <td>0</td>\n",
              "      <td>11.0</td>\n",
              "      <td>1.433333</td>\n",
              "    </tr>\n",
              "  </tbody>\n",
              "</table>\n",
              "</div>"
            ],
            "text/plain": [
              "    sepal_length  sepal_width  petal_length  ...  Label petal_ratio  sepal_ratio\n",
              "37           4.9          3.1           1.5  ...      0        15.0     1.580645\n",
              "32           5.2          4.1           1.5  ...      0        15.0     1.268293\n",
              "9            4.9          3.1           1.5  ...      0        15.0     1.580645\n",
              "34           4.9          3.1           1.5  ...      0        15.0     1.580645\n",
              "12           4.8          3.0           1.4  ...      0        14.0     1.600000\n",
              "13           4.3          3.0           1.1  ...      0        11.0     1.433333\n",
              "\n",
              "[6 rows x 8 columns]"
            ]
          },
          "metadata": {},
          "execution_count": 18
        }
      ]
    },
    {
      "cell_type": "markdown",
      "metadata": {
        "id": "a81a8156"
      },
      "source": [
        "8. In the cell below, display all rows of df that have the versicolor species and a sepal ratio greater than 2.5. This should be a single line of code. (6 pts)"
      ],
      "id": "a81a8156"
    },
    {
      "cell_type": "code",
      "metadata": {
        "colab": {
          "base_uri": "https://localhost:8080/",
          "height": 173
        },
        "id": "6ac3d971",
        "outputId": "65bdea66-d25d-4f05-e24f-c068bbdccae9"
      },
      "source": [
        "df[(df.sepal_ratio > 2.5) & (df.species == 'versicolor')]"
      ],
      "id": "6ac3d971",
      "execution_count": 19,
      "outputs": [
        {
          "output_type": "execute_result",
          "data": {
            "text/html": [
              "<div>\n",
              "<style scoped>\n",
              "    .dataframe tbody tr th:only-of-type {\n",
              "        vertical-align: middle;\n",
              "    }\n",
              "\n",
              "    .dataframe tbody tr th {\n",
              "        vertical-align: top;\n",
              "    }\n",
              "\n",
              "    .dataframe thead th {\n",
              "        text-align: right;\n",
              "    }\n",
              "</style>\n",
              "<table border=\"1\" class=\"dataframe\">\n",
              "  <thead>\n",
              "    <tr style=\"text-align: right;\">\n",
              "      <th></th>\n",
              "      <th>sepal_length</th>\n",
              "      <th>sepal_width</th>\n",
              "      <th>petal_length</th>\n",
              "      <th>petal_width</th>\n",
              "      <th>species</th>\n",
              "      <th>Label</th>\n",
              "      <th>petal_ratio</th>\n",
              "      <th>sepal_ratio</th>\n",
              "    </tr>\n",
              "  </thead>\n",
              "  <tbody>\n",
              "    <tr>\n",
              "      <th>62</th>\n",
              "      <td>6.0</td>\n",
              "      <td>2.2</td>\n",
              "      <td>4.0</td>\n",
              "      <td>1.0</td>\n",
              "      <td>versicolor</td>\n",
              "      <td>1</td>\n",
              "      <td>4.000000</td>\n",
              "      <td>2.727273</td>\n",
              "    </tr>\n",
              "    <tr>\n",
              "      <th>87</th>\n",
              "      <td>6.3</td>\n",
              "      <td>2.3</td>\n",
              "      <td>4.4</td>\n",
              "      <td>1.3</td>\n",
              "      <td>versicolor</td>\n",
              "      <td>1</td>\n",
              "      <td>3.384615</td>\n",
              "      <td>2.739130</td>\n",
              "    </tr>\n",
              "    <tr>\n",
              "      <th>72</th>\n",
              "      <td>6.3</td>\n",
              "      <td>2.5</td>\n",
              "      <td>4.9</td>\n",
              "      <td>1.5</td>\n",
              "      <td>versicolor</td>\n",
              "      <td>1</td>\n",
              "      <td>3.266667</td>\n",
              "      <td>2.520000</td>\n",
              "    </tr>\n",
              "    <tr>\n",
              "      <th>68</th>\n",
              "      <td>6.2</td>\n",
              "      <td>2.2</td>\n",
              "      <td>4.5</td>\n",
              "      <td>1.5</td>\n",
              "      <td>versicolor</td>\n",
              "      <td>1</td>\n",
              "      <td>3.000000</td>\n",
              "      <td>2.818182</td>\n",
              "    </tr>\n",
              "  </tbody>\n",
              "</table>\n",
              "</div>"
            ],
            "text/plain": [
              "    sepal_length  sepal_width  petal_length  ...  Label petal_ratio  sepal_ratio\n",
              "62           6.0          2.2           4.0  ...      1    4.000000     2.727273\n",
              "87           6.3          2.3           4.4  ...      1    3.384615     2.739130\n",
              "72           6.3          2.5           4.9  ...      1    3.266667     2.520000\n",
              "68           6.2          2.2           4.5  ...      1    3.000000     2.818182\n",
              "\n",
              "[4 rows x 8 columns]"
            ]
          },
          "metadata": {},
          "execution_count": 19
        }
      ]
    },
    {
      "cell_type": "markdown",
      "metadata": {
        "id": "8a045dd8"
      },
      "source": [
        "9. In the cell below, use the DataFrame.sort_values() function to sort df by its petal_length column, descending. This should be an in-place sort. (4 pts)"
      ],
      "id": "8a045dd8"
    },
    {
      "cell_type": "code",
      "metadata": {
        "id": "ba5f2ef9",
        "colab": {
          "base_uri": "https://localhost:8080/",
          "height": 419
        },
        "outputId": "303893ef-3290-410b-f8a5-7fd07c02087e"
      },
      "source": [
        "df.sort_values(by = 'petal_length', ascending = False, inplace=True)\n",
        "df"
      ],
      "id": "ba5f2ef9",
      "execution_count": 20,
      "outputs": [
        {
          "output_type": "execute_result",
          "data": {
            "text/html": [
              "<div>\n",
              "<style scoped>\n",
              "    .dataframe tbody tr th:only-of-type {\n",
              "        vertical-align: middle;\n",
              "    }\n",
              "\n",
              "    .dataframe tbody tr th {\n",
              "        vertical-align: top;\n",
              "    }\n",
              "\n",
              "    .dataframe thead th {\n",
              "        text-align: right;\n",
              "    }\n",
              "</style>\n",
              "<table border=\"1\" class=\"dataframe\">\n",
              "  <thead>\n",
              "    <tr style=\"text-align: right;\">\n",
              "      <th></th>\n",
              "      <th>sepal_length</th>\n",
              "      <th>sepal_width</th>\n",
              "      <th>petal_length</th>\n",
              "      <th>petal_width</th>\n",
              "      <th>species</th>\n",
              "      <th>Label</th>\n",
              "      <th>petal_ratio</th>\n",
              "      <th>sepal_ratio</th>\n",
              "    </tr>\n",
              "  </thead>\n",
              "  <tbody>\n",
              "    <tr>\n",
              "      <th>118</th>\n",
              "      <td>7.7</td>\n",
              "      <td>2.6</td>\n",
              "      <td>6.9</td>\n",
              "      <td>2.3</td>\n",
              "      <td>virginica</td>\n",
              "      <td>2</td>\n",
              "      <td>3.000000</td>\n",
              "      <td>2.961538</td>\n",
              "    </tr>\n",
              "    <tr>\n",
              "      <th>122</th>\n",
              "      <td>7.7</td>\n",
              "      <td>2.8</td>\n",
              "      <td>6.7</td>\n",
              "      <td>2.0</td>\n",
              "      <td>virginica</td>\n",
              "      <td>2</td>\n",
              "      <td>3.350000</td>\n",
              "      <td>2.750000</td>\n",
              "    </tr>\n",
              "    <tr>\n",
              "      <th>117</th>\n",
              "      <td>7.7</td>\n",
              "      <td>3.8</td>\n",
              "      <td>6.7</td>\n",
              "      <td>2.2</td>\n",
              "      <td>virginica</td>\n",
              "      <td>2</td>\n",
              "      <td>3.045455</td>\n",
              "      <td>2.026316</td>\n",
              "    </tr>\n",
              "    <tr>\n",
              "      <th>105</th>\n",
              "      <td>7.6</td>\n",
              "      <td>3.0</td>\n",
              "      <td>6.6</td>\n",
              "      <td>2.1</td>\n",
              "      <td>virginica</td>\n",
              "      <td>2</td>\n",
              "      <td>3.142857</td>\n",
              "      <td>2.533333</td>\n",
              "    </tr>\n",
              "    <tr>\n",
              "      <th>131</th>\n",
              "      <td>7.9</td>\n",
              "      <td>3.8</td>\n",
              "      <td>6.4</td>\n",
              "      <td>2.0</td>\n",
              "      <td>virginica</td>\n",
              "      <td>2</td>\n",
              "      <td>3.200000</td>\n",
              "      <td>2.078947</td>\n",
              "    </tr>\n",
              "    <tr>\n",
              "      <th>...</th>\n",
              "      <td>...</td>\n",
              "      <td>...</td>\n",
              "      <td>...</td>\n",
              "      <td>...</td>\n",
              "      <td>...</td>\n",
              "      <td>...</td>\n",
              "      <td>...</td>\n",
              "      <td>...</td>\n",
              "    </tr>\n",
              "    <tr>\n",
              "      <th>36</th>\n",
              "      <td>5.5</td>\n",
              "      <td>3.5</td>\n",
              "      <td>1.3</td>\n",
              "      <td>0.2</td>\n",
              "      <td>setosa</td>\n",
              "      <td>0</td>\n",
              "      <td>6.500000</td>\n",
              "      <td>1.571429</td>\n",
              "    </tr>\n",
              "    <tr>\n",
              "      <th>14</th>\n",
              "      <td>5.8</td>\n",
              "      <td>4.0</td>\n",
              "      <td>1.2</td>\n",
              "      <td>0.2</td>\n",
              "      <td>setosa</td>\n",
              "      <td>0</td>\n",
              "      <td>6.000000</td>\n",
              "      <td>1.450000</td>\n",
              "    </tr>\n",
              "    <tr>\n",
              "      <th>35</th>\n",
              "      <td>5.0</td>\n",
              "      <td>3.2</td>\n",
              "      <td>1.2</td>\n",
              "      <td>0.2</td>\n",
              "      <td>setosa</td>\n",
              "      <td>0</td>\n",
              "      <td>6.000000</td>\n",
              "      <td>1.562500</td>\n",
              "    </tr>\n",
              "    <tr>\n",
              "      <th>13</th>\n",
              "      <td>4.3</td>\n",
              "      <td>3.0</td>\n",
              "      <td>1.1</td>\n",
              "      <td>0.1</td>\n",
              "      <td>setosa</td>\n",
              "      <td>0</td>\n",
              "      <td>11.000000</td>\n",
              "      <td>1.433333</td>\n",
              "    </tr>\n",
              "    <tr>\n",
              "      <th>22</th>\n",
              "      <td>4.6</td>\n",
              "      <td>3.6</td>\n",
              "      <td>1.0</td>\n",
              "      <td>0.2</td>\n",
              "      <td>setosa</td>\n",
              "      <td>0</td>\n",
              "      <td>5.000000</td>\n",
              "      <td>1.277778</td>\n",
              "    </tr>\n",
              "  </tbody>\n",
              "</table>\n",
              "<p>150 rows × 8 columns</p>\n",
              "</div>"
            ],
            "text/plain": [
              "     sepal_length  sepal_width  petal_length  ...  Label petal_ratio  sepal_ratio\n",
              "118           7.7          2.6           6.9  ...      2    3.000000     2.961538\n",
              "122           7.7          2.8           6.7  ...      2    3.350000     2.750000\n",
              "117           7.7          3.8           6.7  ...      2    3.045455     2.026316\n",
              "105           7.6          3.0           6.6  ...      2    3.142857     2.533333\n",
              "131           7.9          3.8           6.4  ...      2    3.200000     2.078947\n",
              "..            ...          ...           ...  ...    ...         ...          ...\n",
              "36            5.5          3.5           1.3  ...      0    6.500000     1.571429\n",
              "14            5.8          4.0           1.2  ...      0    6.000000     1.450000\n",
              "35            5.0          3.2           1.2  ...      0    6.000000     1.562500\n",
              "13            4.3          3.0           1.1  ...      0   11.000000     1.433333\n",
              "22            4.6          3.6           1.0  ...      0    5.000000     1.277778\n",
              "\n",
              "[150 rows x 8 columns]"
            ]
          },
          "metadata": {},
          "execution_count": 20
        }
      ]
    },
    {
      "cell_type": "markdown",
      "metadata": {
        "id": "285042f6"
      },
      "source": [
        "10. Use the DataFrame.iloc[] function to select and display the 10th - 19th rows of the dataframe (inclusive) and the 'petal_length', 'petal_width', and 'species' columns (4 pts)."
      ],
      "id": "285042f6"
    },
    {
      "cell_type": "code",
      "metadata": {
        "id": "AO_gFIwmIPXb"
      },
      "source": [
        "df.reset_index(drop=True, inplace=True)"
      ],
      "id": "AO_gFIwmIPXb",
      "execution_count": 21,
      "outputs": []
    },
    {
      "cell_type": "code",
      "metadata": {
        "id": "55d8b539",
        "colab": {
          "base_uri": "https://localhost:8080/",
          "height": 419
        },
        "collapsed": true,
        "outputId": "45b52bbc-22a7-4b10-f494-3a7cacdd4817"
      },
      "source": [
        "df"
      ],
      "id": "55d8b539",
      "execution_count": 22,
      "outputs": [
        {
          "output_type": "execute_result",
          "data": {
            "text/html": [
              "<div>\n",
              "<style scoped>\n",
              "    .dataframe tbody tr th:only-of-type {\n",
              "        vertical-align: middle;\n",
              "    }\n",
              "\n",
              "    .dataframe tbody tr th {\n",
              "        vertical-align: top;\n",
              "    }\n",
              "\n",
              "    .dataframe thead th {\n",
              "        text-align: right;\n",
              "    }\n",
              "</style>\n",
              "<table border=\"1\" class=\"dataframe\">\n",
              "  <thead>\n",
              "    <tr style=\"text-align: right;\">\n",
              "      <th></th>\n",
              "      <th>sepal_length</th>\n",
              "      <th>sepal_width</th>\n",
              "      <th>petal_length</th>\n",
              "      <th>petal_width</th>\n",
              "      <th>species</th>\n",
              "      <th>Label</th>\n",
              "      <th>petal_ratio</th>\n",
              "      <th>sepal_ratio</th>\n",
              "    </tr>\n",
              "  </thead>\n",
              "  <tbody>\n",
              "    <tr>\n",
              "      <th>0</th>\n",
              "      <td>7.7</td>\n",
              "      <td>2.6</td>\n",
              "      <td>6.9</td>\n",
              "      <td>2.3</td>\n",
              "      <td>virginica</td>\n",
              "      <td>2</td>\n",
              "      <td>3.000000</td>\n",
              "      <td>2.961538</td>\n",
              "    </tr>\n",
              "    <tr>\n",
              "      <th>1</th>\n",
              "      <td>7.7</td>\n",
              "      <td>2.8</td>\n",
              "      <td>6.7</td>\n",
              "      <td>2.0</td>\n",
              "      <td>virginica</td>\n",
              "      <td>2</td>\n",
              "      <td>3.350000</td>\n",
              "      <td>2.750000</td>\n",
              "    </tr>\n",
              "    <tr>\n",
              "      <th>2</th>\n",
              "      <td>7.7</td>\n",
              "      <td>3.8</td>\n",
              "      <td>6.7</td>\n",
              "      <td>2.2</td>\n",
              "      <td>virginica</td>\n",
              "      <td>2</td>\n",
              "      <td>3.045455</td>\n",
              "      <td>2.026316</td>\n",
              "    </tr>\n",
              "    <tr>\n",
              "      <th>3</th>\n",
              "      <td>7.6</td>\n",
              "      <td>3.0</td>\n",
              "      <td>6.6</td>\n",
              "      <td>2.1</td>\n",
              "      <td>virginica</td>\n",
              "      <td>2</td>\n",
              "      <td>3.142857</td>\n",
              "      <td>2.533333</td>\n",
              "    </tr>\n",
              "    <tr>\n",
              "      <th>4</th>\n",
              "      <td>7.9</td>\n",
              "      <td>3.8</td>\n",
              "      <td>6.4</td>\n",
              "      <td>2.0</td>\n",
              "      <td>virginica</td>\n",
              "      <td>2</td>\n",
              "      <td>3.200000</td>\n",
              "      <td>2.078947</td>\n",
              "    </tr>\n",
              "    <tr>\n",
              "      <th>...</th>\n",
              "      <td>...</td>\n",
              "      <td>...</td>\n",
              "      <td>...</td>\n",
              "      <td>...</td>\n",
              "      <td>...</td>\n",
              "      <td>...</td>\n",
              "      <td>...</td>\n",
              "      <td>...</td>\n",
              "    </tr>\n",
              "    <tr>\n",
              "      <th>145</th>\n",
              "      <td>5.5</td>\n",
              "      <td>3.5</td>\n",
              "      <td>1.3</td>\n",
              "      <td>0.2</td>\n",
              "      <td>setosa</td>\n",
              "      <td>0</td>\n",
              "      <td>6.500000</td>\n",
              "      <td>1.571429</td>\n",
              "    </tr>\n",
              "    <tr>\n",
              "      <th>146</th>\n",
              "      <td>5.8</td>\n",
              "      <td>4.0</td>\n",
              "      <td>1.2</td>\n",
              "      <td>0.2</td>\n",
              "      <td>setosa</td>\n",
              "      <td>0</td>\n",
              "      <td>6.000000</td>\n",
              "      <td>1.450000</td>\n",
              "    </tr>\n",
              "    <tr>\n",
              "      <th>147</th>\n",
              "      <td>5.0</td>\n",
              "      <td>3.2</td>\n",
              "      <td>1.2</td>\n",
              "      <td>0.2</td>\n",
              "      <td>setosa</td>\n",
              "      <td>0</td>\n",
              "      <td>6.000000</td>\n",
              "      <td>1.562500</td>\n",
              "    </tr>\n",
              "    <tr>\n",
              "      <th>148</th>\n",
              "      <td>4.3</td>\n",
              "      <td>3.0</td>\n",
              "      <td>1.1</td>\n",
              "      <td>0.1</td>\n",
              "      <td>setosa</td>\n",
              "      <td>0</td>\n",
              "      <td>11.000000</td>\n",
              "      <td>1.433333</td>\n",
              "    </tr>\n",
              "    <tr>\n",
              "      <th>149</th>\n",
              "      <td>4.6</td>\n",
              "      <td>3.6</td>\n",
              "      <td>1.0</td>\n",
              "      <td>0.2</td>\n",
              "      <td>setosa</td>\n",
              "      <td>0</td>\n",
              "      <td>5.000000</td>\n",
              "      <td>1.277778</td>\n",
              "    </tr>\n",
              "  </tbody>\n",
              "</table>\n",
              "<p>150 rows × 8 columns</p>\n",
              "</div>"
            ],
            "text/plain": [
              "     sepal_length  sepal_width  petal_length  ...  Label petal_ratio  sepal_ratio\n",
              "0             7.7          2.6           6.9  ...      2    3.000000     2.961538\n",
              "1             7.7          2.8           6.7  ...      2    3.350000     2.750000\n",
              "2             7.7          3.8           6.7  ...      2    3.045455     2.026316\n",
              "3             7.6          3.0           6.6  ...      2    3.142857     2.533333\n",
              "4             7.9          3.8           6.4  ...      2    3.200000     2.078947\n",
              "..            ...          ...           ...  ...    ...         ...          ...\n",
              "145           5.5          3.5           1.3  ...      0    6.500000     1.571429\n",
              "146           5.8          4.0           1.2  ...      0    6.000000     1.450000\n",
              "147           5.0          3.2           1.2  ...      0    6.000000     1.562500\n",
              "148           4.3          3.0           1.1  ...      0   11.000000     1.433333\n",
              "149           4.6          3.6           1.0  ...      0    5.000000     1.277778\n",
              "\n",
              "[150 rows x 8 columns]"
            ]
          },
          "metadata": {},
          "execution_count": 22
        }
      ]
    },
    {
      "cell_type": "code",
      "metadata": {
        "colab": {
          "base_uri": "https://localhost:8080/",
          "height": 359
        },
        "id": "45ZWecU8JI4S",
        "outputId": "640dbfb4-cf37-486a-acc8-7af551d00ca3"
      },
      "source": [
        "df.iloc[10:20,[2, 3,4]]"
      ],
      "id": "45ZWecU8JI4S",
      "execution_count": 23,
      "outputs": [
        {
          "output_type": "execute_result",
          "data": {
            "text/html": [
              "<div>\n",
              "<style scoped>\n",
              "    .dataframe tbody tr th:only-of-type {\n",
              "        vertical-align: middle;\n",
              "    }\n",
              "\n",
              "    .dataframe tbody tr th {\n",
              "        vertical-align: top;\n",
              "    }\n",
              "\n",
              "    .dataframe thead th {\n",
              "        text-align: right;\n",
              "    }\n",
              "</style>\n",
              "<table border=\"1\" class=\"dataframe\">\n",
              "  <thead>\n",
              "    <tr style=\"text-align: right;\">\n",
              "      <th></th>\n",
              "      <th>petal_length</th>\n",
              "      <th>petal_width</th>\n",
              "      <th>species</th>\n",
              "    </tr>\n",
              "  </thead>\n",
              "  <tbody>\n",
              "    <tr>\n",
              "      <th>10</th>\n",
              "      <td>6.0</td>\n",
              "      <td>1.8</td>\n",
              "      <td>virginica</td>\n",
              "    </tr>\n",
              "    <tr>\n",
              "      <th>11</th>\n",
              "      <td>5.9</td>\n",
              "      <td>2.1</td>\n",
              "      <td>virginica</td>\n",
              "    </tr>\n",
              "    <tr>\n",
              "      <th>12</th>\n",
              "      <td>5.9</td>\n",
              "      <td>2.3</td>\n",
              "      <td>virginica</td>\n",
              "    </tr>\n",
              "    <tr>\n",
              "      <th>13</th>\n",
              "      <td>5.8</td>\n",
              "      <td>2.2</td>\n",
              "      <td>virginica</td>\n",
              "    </tr>\n",
              "    <tr>\n",
              "      <th>14</th>\n",
              "      <td>5.8</td>\n",
              "      <td>1.6</td>\n",
              "      <td>virginica</td>\n",
              "    </tr>\n",
              "    <tr>\n",
              "      <th>15</th>\n",
              "      <td>5.8</td>\n",
              "      <td>1.8</td>\n",
              "      <td>virginica</td>\n",
              "    </tr>\n",
              "    <tr>\n",
              "      <th>16</th>\n",
              "      <td>5.7</td>\n",
              "      <td>2.3</td>\n",
              "      <td>virginica</td>\n",
              "    </tr>\n",
              "    <tr>\n",
              "      <th>17</th>\n",
              "      <td>5.7</td>\n",
              "      <td>2.5</td>\n",
              "      <td>virginica</td>\n",
              "    </tr>\n",
              "    <tr>\n",
              "      <th>18</th>\n",
              "      <td>5.7</td>\n",
              "      <td>2.1</td>\n",
              "      <td>virginica</td>\n",
              "    </tr>\n",
              "    <tr>\n",
              "      <th>19</th>\n",
              "      <td>5.6</td>\n",
              "      <td>2.1</td>\n",
              "      <td>virginica</td>\n",
              "    </tr>\n",
              "  </tbody>\n",
              "</table>\n",
              "</div>"
            ],
            "text/plain": [
              "    petal_length  petal_width    species\n",
              "10           6.0          1.8  virginica\n",
              "11           5.9          2.1  virginica\n",
              "12           5.9          2.3  virginica\n",
              "13           5.8          2.2  virginica\n",
              "14           5.8          1.6  virginica\n",
              "15           5.8          1.8  virginica\n",
              "16           5.7          2.3  virginica\n",
              "17           5.7          2.5  virginica\n",
              "18           5.7          2.1  virginica\n",
              "19           5.6          2.1  virginica"
            ]
          },
          "metadata": {},
          "execution_count": 23
        }
      ]
    },
    {
      "cell_type": "markdown",
      "metadata": {
        "id": "6fHLOzQPPNmx"
      },
      "source": [
        "\n",
        "\n",
        "---\n",
        "\n"
      ],
      "id": "6fHLOzQPPNmx"
    },
    {
      "cell_type": "markdown",
      "metadata": {
        "id": "bd7587b4"
      },
      "source": [
        "The cell below re-sorts df, then constructs a list of tuples in the form (petal_length, species) named list1 from df. You will use list1 for problems 11-13."
      ],
      "id": "bd7587b4"
    },
    {
      "cell_type": "code",
      "metadata": {
        "id": "bfaf9e23"
      },
      "source": [
        "df.sort_index(inplace=True)\n",
        "petal_lengths = df['petal_length'].array\n",
        "species = df['species'].array\n",
        "list1 = list(zip(petal_lengths, species))"
      ],
      "id": "bfaf9e23",
      "execution_count": 24,
      "outputs": []
    },
    {
      "cell_type": "markdown",
      "metadata": {
        "id": "b6174f68"
      },
      "source": [
        "11. In the cell below, sort list1 by petal length using the sorted() function, and assign a result to a new list called list2. You are required to pass the key argument with a lambda function to do the sort. Your sort should be in descending order. Then, display the first ten elements of list2. (5 pts)"
      ],
      "id": "b6174f68"
    },
    {
      "cell_type": "code",
      "metadata": {
        "id": "bf8fbe17",
        "colab": {
          "base_uri": "https://localhost:8080/"
        },
        "collapsed": true,
        "outputId": "c3ea3023-17aa-4c11-91df-195df57fdf89"
      },
      "source": [
        "list1"
      ],
      "id": "bf8fbe17",
      "execution_count": 25,
      "outputs": [
        {
          "output_type": "execute_result",
          "data": {
            "text/plain": [
              "[(6.9, 'virginica'),\n",
              " (6.7, 'virginica'),\n",
              " (6.7, 'virginica'),\n",
              " (6.6, 'virginica'),\n",
              " (6.4, 'virginica'),\n",
              " (6.3, 'virginica'),\n",
              " (6.1, 'virginica'),\n",
              " (6.1, 'virginica'),\n",
              " (6.1, 'virginica'),\n",
              " (6.0, 'virginica'),\n",
              " (6.0, 'virginica'),\n",
              " (5.9, 'virginica'),\n",
              " (5.9, 'virginica'),\n",
              " (5.8, 'virginica'),\n",
              " (5.8, 'virginica'),\n",
              " (5.8, 'virginica'),\n",
              " (5.7, 'virginica'),\n",
              " (5.7, 'virginica'),\n",
              " (5.7, 'virginica'),\n",
              " (5.6, 'virginica'),\n",
              " (5.6, 'virginica'),\n",
              " (5.6, 'virginica'),\n",
              " (5.6, 'virginica'),\n",
              " (5.6, 'virginica'),\n",
              " (5.6, 'virginica'),\n",
              " (5.5, 'virginica'),\n",
              " (5.5, 'virginica'),\n",
              " (5.5, 'virginica'),\n",
              " (5.4, 'virginica'),\n",
              " (5.4, 'virginica'),\n",
              " (5.3, 'virginica'),\n",
              " (5.3, 'virginica'),\n",
              " (5.2, 'virginica'),\n",
              " (5.2, 'virginica'),\n",
              " (5.1, 'virginica'),\n",
              " (5.1, 'virginica'),\n",
              " (5.1, 'virginica'),\n",
              " (5.1, 'versicolor'),\n",
              " (5.1, 'virginica'),\n",
              " (5.1, 'virginica'),\n",
              " (5.1, 'virginica'),\n",
              " (5.1, 'virginica'),\n",
              " (5.0, 'virginica'),\n",
              " (5.0, 'versicolor'),\n",
              " (5.0, 'virginica'),\n",
              " (5.0, 'virginica'),\n",
              " (4.9, 'versicolor'),\n",
              " (4.9, 'virginica'),\n",
              " (4.9, 'versicolor'),\n",
              " (4.9, 'virginica'),\n",
              " (4.9, 'virginica'),\n",
              " (4.8, 'virginica'),\n",
              " (4.8, 'virginica'),\n",
              " (4.8, 'versicolor'),\n",
              " (4.8, 'versicolor'),\n",
              " (4.7, 'versicolor'),\n",
              " (4.7, 'versicolor'),\n",
              " (4.7, 'versicolor'),\n",
              " (4.7, 'versicolor'),\n",
              " (4.7, 'versicolor'),\n",
              " (4.6, 'versicolor'),\n",
              " (4.6, 'versicolor'),\n",
              " (4.6, 'versicolor'),\n",
              " (4.5, 'versicolor'),\n",
              " (4.5, 'versicolor'),\n",
              " (4.5, 'versicolor'),\n",
              " (4.5, 'versicolor'),\n",
              " (4.5, 'versicolor'),\n",
              " (4.5, 'versicolor'),\n",
              " (4.5, 'virginica'),\n",
              " (4.5, 'versicolor'),\n",
              " (4.4, 'versicolor'),\n",
              " (4.4, 'versicolor'),\n",
              " (4.4, 'versicolor'),\n",
              " (4.4, 'versicolor'),\n",
              " (4.3, 'versicolor'),\n",
              " (4.3, 'versicolor'),\n",
              " (4.2, 'versicolor'),\n",
              " (4.2, 'versicolor'),\n",
              " (4.2, 'versicolor'),\n",
              " (4.2, 'versicolor'),\n",
              " (4.1, 'versicolor'),\n",
              " (4.1, 'versicolor'),\n",
              " (4.1, 'versicolor'),\n",
              " (4.0, 'versicolor'),\n",
              " (4.0, 'versicolor'),\n",
              " (4.0, 'versicolor'),\n",
              " (4.0, 'versicolor'),\n",
              " (4.0, 'versicolor'),\n",
              " (3.9, 'versicolor'),\n",
              " (3.9, 'versicolor'),\n",
              " (3.9, 'versicolor'),\n",
              " (3.8, 'versicolor'),\n",
              " (3.7, 'versicolor'),\n",
              " (3.6, 'versicolor'),\n",
              " (3.5, 'versicolor'),\n",
              " (3.5, 'versicolor'),\n",
              " (3.3, 'versicolor'),\n",
              " (3.3, 'versicolor'),\n",
              " (3.0, 'versicolor'),\n",
              " (1.9, 'setosa'),\n",
              " (1.9, 'setosa'),\n",
              " (1.7, 'setosa'),\n",
              " (1.7, 'setosa'),\n",
              " (1.7, 'setosa'),\n",
              " (1.7, 'setosa'),\n",
              " (1.6, 'setosa'),\n",
              " (1.6, 'setosa'),\n",
              " (1.6, 'setosa'),\n",
              " (1.6, 'setosa'),\n",
              " (1.6, 'setosa'),\n",
              " (1.6, 'setosa'),\n",
              " (1.6, 'setosa'),\n",
              " (1.5, 'setosa'),\n",
              " (1.5, 'setosa'),\n",
              " (1.5, 'setosa'),\n",
              " (1.5, 'setosa'),\n",
              " (1.5, 'setosa'),\n",
              " (1.5, 'setosa'),\n",
              " (1.5, 'setosa'),\n",
              " (1.5, 'setosa'),\n",
              " (1.5, 'setosa'),\n",
              " (1.5, 'setosa'),\n",
              " (1.5, 'setosa'),\n",
              " (1.5, 'setosa'),\n",
              " (1.5, 'setosa'),\n",
              " (1.5, 'setosa'),\n",
              " (1.4, 'setosa'),\n",
              " (1.4, 'setosa'),\n",
              " (1.4, 'setosa'),\n",
              " (1.4, 'setosa'),\n",
              " (1.4, 'setosa'),\n",
              " (1.4, 'setosa'),\n",
              " (1.4, 'setosa'),\n",
              " (1.4, 'setosa'),\n",
              " (1.4, 'setosa'),\n",
              " (1.4, 'setosa'),\n",
              " (1.4, 'setosa'),\n",
              " (1.4, 'setosa'),\n",
              " (1.3, 'setosa'),\n",
              " (1.3, 'setosa'),\n",
              " (1.3, 'setosa'),\n",
              " (1.3, 'setosa'),\n",
              " (1.3, 'setosa'),\n",
              " (1.3, 'setosa'),\n",
              " (1.3, 'setosa'),\n",
              " (1.2, 'setosa'),\n",
              " (1.2, 'setosa'),\n",
              " (1.1, 'setosa'),\n",
              " (1.0, 'setosa')]"
            ]
          },
          "metadata": {},
          "execution_count": 25
        }
      ]
    },
    {
      "cell_type": "code",
      "metadata": {
        "colab": {
          "base_uri": "https://localhost:8080/"
        },
        "id": "J_GRzDxqQ1kc",
        "outputId": "cb3c8117-1dd4-4da4-debc-41f203893947"
      },
      "source": [
        "list2 = sorted(list1, key=lambda x: x, reverse=True)\n",
        "list2[:10]"
      ],
      "id": "J_GRzDxqQ1kc",
      "execution_count": 26,
      "outputs": [
        {
          "output_type": "execute_result",
          "data": {
            "text/plain": [
              "[(6.9, 'virginica'),\n",
              " (6.7, 'virginica'),\n",
              " (6.7, 'virginica'),\n",
              " (6.6, 'virginica'),\n",
              " (6.4, 'virginica'),\n",
              " (6.3, 'virginica'),\n",
              " (6.1, 'virginica'),\n",
              " (6.1, 'virginica'),\n",
              " (6.1, 'virginica'),\n",
              " (6.0, 'virginica')]"
            ]
          },
          "metadata": {},
          "execution_count": 26
        }
      ]
    },
    {
      "cell_type": "markdown",
      "metadata": {
        "id": "aaa7b33d"
      },
      "source": [
        "12. In the cell below, use list comprehension to make a new list named list3. It should contain all tuples from list1 that have a petal length greater than 3.5 and less than 4.0. Then, display list3. (5 pts)"
      ],
      "id": "aaa7b33d"
    },
    {
      "cell_type": "code",
      "metadata": {
        "id": "2c39f648",
        "colab": {
          "base_uri": "https://localhost:8080/"
        },
        "outputId": "bfb6961f-77a9-42ac-9b10-5fcff70e50cf"
      },
      "source": [
        "list3 = { n:c for n, c in list1 if (n>3.5 and n<4)}\n",
        "list3"
      ],
      "id": "2c39f648",
      "execution_count": 27,
      "outputs": [
        {
          "output_type": "execute_result",
          "data": {
            "text/plain": [
              "{3.6: 'versicolor', 3.7: 'versicolor', 3.8: 'versicolor', 3.9: 'versicolor'}"
            ]
          },
          "metadata": {},
          "execution_count": 27
        }
      ]
    },
    {
      "cell_type": "markdown",
      "metadata": {
        "id": "1eb09b07"
      },
      "source": [
        "13. In the cell below, use only list and dictionary comprehension to construct dict1, a dictionary whose keys are the three Iris species names in the provided 'iris_species' list and whose values are sets. Each set should contain the unique petal lengths observed for that species in the Iris dataset. \n",
        "\n",
        "Use only one line to construct list1, and no other list or dictionary operations (such as list slicing or list concatenation). You should not modify the existing lines in the cell. Hint: your dictionary and list comprehensions should iterate over iris_species and list1. (8 pts)"
      ],
      "id": "1eb09b07"
    },
    {
      "cell_type": "code",
      "metadata": {
        "colab": {
          "base_uri": "https://localhost:8080/"
        },
        "id": "mPjkvqdD64Xj",
        "outputId": "2efdbdba-07ec-4297-bdbf-bcd4944c4985"
      },
      "source": [
        "list1_val = set([*list1])\n",
        "print(list1_val)"
      ],
      "id": "mPjkvqdD64Xj",
      "execution_count": 115,
      "outputs": [
        {
          "output_type": "stream",
          "name": "stdout",
          "text": [
            "['virginica', 'virginica', 'virginica', 'virginica', 'virginica', 'virginica', 'virginica', 'virginica', 'virginica', 'virginica', 'virginica', 'virginica', 'virginica', 'setosa', 'setosa', 'versicolor', 'versicolor', 'versicolor', 'versicolor', 'versicolor', 'setosa', 'setosa', 'versicolor', 'versicolor', 'versicolor', 'virginica', 'virginica', 'virginica', 'versicolor', 'versicolor', 'versicolor', 'versicolor', 'virginica', 'virginica', 'virginica', 'setosa', 'virginica', 'setosa', 'versicolor', 'versicolor', 'versicolor', 'versicolor', 'versicolor', 'versicolor', 'setosa', 'setosa', 'setosa', 'versicolor']\n"
          ]
        }
      ]
    },
    {
      "cell_type": "code",
      "metadata": {
        "colab": {
          "base_uri": "https://localhost:8080/"
        },
        "id": "zQkKNVAwTziJ",
        "outputId": "8bd1ec22-e066-47b7-841c-b6c6e78220d9"
      },
      "source": [
        "a = [item for item in list1 if item[1] == \"setosa\"]\n",
        "print(a)"
      ],
      "id": "zQkKNVAwTziJ",
      "execution_count": 131,
      "outputs": [
        {
          "output_type": "stream",
          "name": "stdout",
          "text": [
            "[(1.9, 'setosa'), (1.9, 'setosa'), (1.7, 'setosa'), (1.7, 'setosa'), (1.7, 'setosa'), (1.7, 'setosa'), (1.6, 'setosa'), (1.6, 'setosa'), (1.6, 'setosa'), (1.6, 'setosa'), (1.6, 'setosa'), (1.6, 'setosa'), (1.6, 'setosa'), (1.5, 'setosa'), (1.5, 'setosa'), (1.5, 'setosa'), (1.5, 'setosa'), (1.5, 'setosa'), (1.5, 'setosa'), (1.5, 'setosa'), (1.5, 'setosa'), (1.5, 'setosa'), (1.5, 'setosa'), (1.5, 'setosa'), (1.5, 'setosa'), (1.5, 'setosa'), (1.5, 'setosa'), (1.4, 'setosa'), (1.4, 'setosa'), (1.4, 'setosa'), (1.4, 'setosa'), (1.4, 'setosa'), (1.4, 'setosa'), (1.4, 'setosa'), (1.4, 'setosa'), (1.4, 'setosa'), (1.4, 'setosa'), (1.4, 'setosa'), (1.4, 'setosa'), (1.3, 'setosa'), (1.3, 'setosa'), (1.3, 'setosa'), (1.3, 'setosa'), (1.3, 'setosa'), (1.3, 'setosa'), (1.3, 'setosa'), (1.2, 'setosa'), (1.2, 'setosa'), (1.1, 'setosa'), (1.0, 'setosa')]\n"
          ]
        }
      ]
    },
    {
      "cell_type": "code",
      "metadata": {
        "id": "8e5088f2",
        "colab": {
          "base_uri": "https://localhost:8080/"
        },
        "outputId": "c4512402-54ff-4eaf-9c99-f2865544c959"
      },
      "source": [
        "iris_species = ['setosa', 'versicolor', 'virginica']\n",
        "# TODO: Add your line here!!!\n",
        "\n",
        "dict1 = { c: list1_val for c in iris_species  }\n",
        "\n",
        "for species in iris_species:\n",
        "    #print(species, sorted(dict1[species]))\n",
        "    print((dict1[species]))\n",
        "\n",
        "\n",
        "    "
      ],
      "id": "8e5088f2",
      "execution_count": 134,
      "outputs": [
        {
          "output_type": "stream",
          "name": "stdout",
          "text": [
            "{(5.2, 'virginica'), (5.3, 'virginica'), (5.8, 'virginica'), (5.7, 'virginica'), (5.6, 'virginica'), (5.5, 'virginica'), (5.4, 'virginica'), (6.7, 'virginica'), (6.3, 'virginica'), (6.6, 'virginica'), (6.4, 'virginica'), (6.1, 'virginica'), (6.0, 'virginica'), (1.9, 'setosa'), (1.7, 'setosa'), (4.6, 'versicolor'), (4.5, 'versicolor'), (4.4, 'versicolor'), (4.1, 'versicolor'), (4.0, 'versicolor'), (1.6, 'setosa'), (1.5, 'setosa'), (3.9, 'versicolor'), (3.8, 'versicolor'), (3.7, 'versicolor'), (4.9, 'virginica'), (4.8, 'virginica'), (4.5, 'virginica'), (3.6, 'versicolor'), (3.5, 'versicolor'), (3.3, 'versicolor'), (3.0, 'versicolor'), (5.0, 'virginica'), (5.1, 'virginica'), (5.9, 'virginica'), (1.2, 'setosa'), (6.9, 'virginica'), (1.4, 'setosa'), (5.1, 'versicolor'), (5.0, 'versicolor'), (4.8, 'versicolor'), (4.7, 'versicolor'), (4.3, 'versicolor'), (4.2, 'versicolor'), (1.3, 'setosa'), (1.1, 'setosa'), (1.0, 'setosa'), (4.9, 'versicolor')}\n",
            "{(5.2, 'virginica'), (5.3, 'virginica'), (5.8, 'virginica'), (5.7, 'virginica'), (5.6, 'virginica'), (5.5, 'virginica'), (5.4, 'virginica'), (6.7, 'virginica'), (6.3, 'virginica'), (6.6, 'virginica'), (6.4, 'virginica'), (6.1, 'virginica'), (6.0, 'virginica'), (1.9, 'setosa'), (1.7, 'setosa'), (4.6, 'versicolor'), (4.5, 'versicolor'), (4.4, 'versicolor'), (4.1, 'versicolor'), (4.0, 'versicolor'), (1.6, 'setosa'), (1.5, 'setosa'), (3.9, 'versicolor'), (3.8, 'versicolor'), (3.7, 'versicolor'), (4.9, 'virginica'), (4.8, 'virginica'), (4.5, 'virginica'), (3.6, 'versicolor'), (3.5, 'versicolor'), (3.3, 'versicolor'), (3.0, 'versicolor'), (5.0, 'virginica'), (5.1, 'virginica'), (5.9, 'virginica'), (1.2, 'setosa'), (6.9, 'virginica'), (1.4, 'setosa'), (5.1, 'versicolor'), (5.0, 'versicolor'), (4.8, 'versicolor'), (4.7, 'versicolor'), (4.3, 'versicolor'), (4.2, 'versicolor'), (1.3, 'setosa'), (1.1, 'setosa'), (1.0, 'setosa'), (4.9, 'versicolor')}\n",
            "{(5.2, 'virginica'), (5.3, 'virginica'), (5.8, 'virginica'), (5.7, 'virginica'), (5.6, 'virginica'), (5.5, 'virginica'), (5.4, 'virginica'), (6.7, 'virginica'), (6.3, 'virginica'), (6.6, 'virginica'), (6.4, 'virginica'), (6.1, 'virginica'), (6.0, 'virginica'), (1.9, 'setosa'), (1.7, 'setosa'), (4.6, 'versicolor'), (4.5, 'versicolor'), (4.4, 'versicolor'), (4.1, 'versicolor'), (4.0, 'versicolor'), (1.6, 'setosa'), (1.5, 'setosa'), (3.9, 'versicolor'), (3.8, 'versicolor'), (3.7, 'versicolor'), (4.9, 'virginica'), (4.8, 'virginica'), (4.5, 'virginica'), (3.6, 'versicolor'), (3.5, 'versicolor'), (3.3, 'versicolor'), (3.0, 'versicolor'), (5.0, 'virginica'), (5.1, 'virginica'), (5.9, 'virginica'), (1.2, 'setosa'), (6.9, 'virginica'), (1.4, 'setosa'), (5.1, 'versicolor'), (5.0, 'versicolor'), (4.8, 'versicolor'), (4.7, 'versicolor'), (4.3, 'versicolor'), (4.2, 'versicolor'), (1.3, 'setosa'), (1.1, 'setosa'), (1.0, 'setosa'), (4.9, 'versicolor')}\n"
          ]
        }
      ]
    }
  ]
}